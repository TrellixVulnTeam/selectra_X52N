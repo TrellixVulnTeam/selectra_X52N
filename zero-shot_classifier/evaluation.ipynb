{
 "cells": [
  {
   "cell_type": "code",
   "execution_count": null,
   "id": "87da2689-040c-4930-814a-4321d5424d5c",
   "metadata": {},
   "outputs": [],
   "source": [
    "import datasets\n",
    "from datasets import Dataset\n",
    "from transformers import pipeline\n",
    "import pandas as pd"
   ]
  },
  {
   "cell_type": "code",
   "execution_count": null,
   "id": "0183cd20-a97d-4818-afa6-d56cbe124528",
   "metadata": {},
   "outputs": [],
   "source": [
    "pl_small = pipeline(\"zero-shot-classification\", model=\"Recognai/zeroshot_selectra_small\")\n",
    "pl_medium = pipeline(\"zero-shot-classification\", model=\"Recognai/zeroshot_selectra_medium\")\n",
    "pl_beto = pipeline(\"zero-shot-classification\", model=\"Recognai/bert-base-spanish-wwm-cased-xnli\")"
   ]
  },
  {
   "cell_type": "markdown",
   "id": "c18f576e-7fbb-4040-bf80-a8bbaf0bc125",
   "metadata": {},
   "source": [
    "# mlsum"
   ]
  },
  {
   "cell_type": "code",
   "execution_count": null,
   "id": "29f650ab-8848-4861-9c42-54658b53c999",
   "metadata": {},
   "outputs": [],
   "source": [
    "mlsum = datasets.load_dataset(\"mlsum\", \"es\", split=\"test\")"
   ]
  },
  {
   "cell_type": "code",
   "execution_count": null,
   "id": "f74caaa5-ccd9-49c9-8a4c-b3786f62de78",
   "metadata": {},
   "outputs": [],
   "source": [
    "mlsum_df = mlsum.to_pandas()"
   ]
  },
  {
   "cell_type": "code",
   "execution_count": null,
   "id": "1b0213a9-5bd8-43a1-86c6-7ae9aff7151d",
   "metadata": {},
   "outputs": [],
   "source": [
    "mlsum_df[\"topic\"].value_counts()[:20]"
   ]
  },
  {
   "cell_type": "code",
   "execution_count": null,
   "id": "36783dea-a595-4fc7-a28c-7e65bd56b3a2",
   "metadata": {},
   "outputs": [],
   "source": [
    "idx = mlsum_df.topic.isin([\"politica actualidad\", \"economia actualidad\", \"cultura actualidad\", \"sociedad actualidad\", \"deportes actualidad\"])"
   ]
  },
  {
   "cell_type": "code",
   "execution_count": null,
   "id": "61bd1642-d64b-4e50-a8f9-5fb3e9a0512c",
   "metadata": {},
   "outputs": [],
   "source": [
    "data_df = pd.DataFrame({\"input\": mlsum_df.summary[idx], \"label\": mlsum_df.topic[idx]})"
   ]
  },
  {
   "cell_type": "code",
   "execution_count": null,
   "id": "da132750-3845-4042-a000-61929eb6e66d",
   "metadata": {},
   "outputs": [],
   "source": [
    "# Get rid of actualidad\n",
    "data_df[\"label\"] = data_df.label.map(lambda x: x.split()[0])"
   ]
  },
  {
   "cell_type": "code",
   "execution_count": null,
   "id": "3bd6d6a4-1c31-4d41-9797-7416186e7437",
   "metadata": {},
   "outputs": [],
   "source": [
    "# economia -> economía\n",
    "data_df[\"label\"] = data_df.label.map(lambda x: \"economía\" if x == \"economia\" else x) \n",
    "# politica -> política\n",
    "data_df[\"label\"] = data_df.label.map(lambda x: \"política\" if x == \"politica\" else x) "
   ]
  },
  {
   "cell_type": "code",
   "execution_count": null,
   "id": "8d4366a3-a74f-4ef5-906b-7c268413ef6c",
   "metadata": {},
   "outputs": [],
   "source": [
    "candidate_labels = list(data_df.label.value_counts().index)\n",
    "candidate_labels"
   ]
  },
  {
   "cell_type": "code",
   "execution_count": null,
   "id": "3c8ac4cd-d934-421d-aaba-250d1b9949d3",
   "metadata": {},
   "outputs": [],
   "source": [
    "candidate_labels = list(data_df.label.value_counts().index)\n",
    "template = \"Esta noticia es de {}\"\n",
    "\n",
    "def get_predictions(row):\n",
    "    pred_small = pl_small(row[\"input\"], candidate_labels=candidate_labels,\n",
    "                       hypothesis_template=template)\n",
    "    pred_medium = pl_medium(row[\"input\"], candidate_labels=candidate_labels,\n",
    "                         hypothesis_template=template)\n",
    "    pred_beto = pl_beto(row[\"input\"], candidate_labels=candidate_labels,\n",
    "                        hypothesis_template=template)\n",
    "\n",
    "    return {\"small\": pred_small, \"medium\": pred_medium, \"beto\": pred_beto}\n",
    "\n",
    "mlsum_pred = Dataset.from_pandas(data_df).map(get_predictions)"
   ]
  },
  {
   "cell_type": "code",
   "execution_count": null,
   "id": "6296c66d-4032-4dbb-830d-ee8ac09854ac",
   "metadata": {},
   "outputs": [],
   "source": [
    "mlsum_pred.to_json(\"mlsum_predictions.json\")"
   ]
  },
  {
   "cell_type": "code",
   "execution_count": null,
   "id": "f692e660-2ff7-42b4-a9c0-d05136b58f06",
   "metadata": {},
   "outputs": [],
   "source": [
    "data_df = mlsum_pred.to_pandas()"
   ]
  },
  {
   "cell_type": "code",
   "execution_count": null,
   "id": "7d3d7b94-a51f-4379-9fc5-92f934136332",
   "metadata": {},
   "outputs": [],
   "source": [
    "for model in [\"small\", \"medium\", \"beto\"]:\n",
    "    print(\"### predictions of\", model)\n",
    "    display(data_df[model].map(lambda x: x[\"labels\"][0]).value_counts())"
   ]
  },
  {
   "cell_type": "code",
   "execution_count": null,
   "id": "7998edcf-1646-434c-946c-d64e5a6b3d11",
   "metadata": {},
   "outputs": [],
   "source": [
    "for model in [\"small\", \"medium\", \"beto\"]:\n",
    "    print(\"### accuracy of\", model)\n",
    "    print((data_df[model].map(lambda x: x[\"labels\"][0]) == data_df.label).sum() / len(data_df))"
   ]
  },
  {
   "cell_type": "code",
   "execution_count": null,
   "id": "aa32cc86-7fdd-490a-bab9-4a1893e39846",
   "metadata": {},
   "outputs": [],
   "source": []
  }
 ],
 "metadata": {
  "kernelspec": {
   "display_name": "Python 3",
   "language": "python",
   "name": "python3"
  },
  "language_info": {
   "codemirror_mode": {
    "name": "ipython",
    "version": 3
   },
   "file_extension": ".py",
   "mimetype": "text/x-python",
   "name": "python",
   "nbconvert_exporter": "python",
   "pygments_lexer": "ipython3",
   "version": "3.6.13"
  }
 },
 "nbformat": 4,
 "nbformat_minor": 5
}
